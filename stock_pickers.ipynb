{
 "cells": [
  {
   "cell_type": "code",
   "execution_count": 19,
   "id": "a18ceec2-132e-4693-9cd4-7d84199ce313",
   "metadata": {},
   "outputs": [
    {
     "name": "stdout",
     "output_type": "stream",
     "text": [
      "Collecting yahoo_fin\n",
      "  Downloading yahoo_fin-0.8.9.1-py3-none-any.whl (10 kB)\n",
      "Requirement already satisfied: requests in /usr/local/lib/python3.10/site-packages (from yahoo_fin) (2.28.1)\n",
      "Requirement already satisfied: pandas in /usr/local/lib/python3.10/site-packages (from yahoo_fin) (1.5.2)\n",
      "Collecting requests-html\n",
      "  Downloading requests_html-0.10.0-py3-none-any.whl (13 kB)\n",
      "Collecting feedparser\n",
      "  Downloading feedparser-6.0.10-py3-none-any.whl (81 kB)\n",
      "\u001b[2K     \u001b[90m━━━━━━━━━━━━━━━━━━━━━━━━━━━━━━━━━━━━━━━━\u001b[0m \u001b[32m81.1/81.1 kB\u001b[0m \u001b[31m1.6 MB/s\u001b[0m eta \u001b[36m0:00:00\u001b[0ma \u001b[36m0:00:01\u001b[0m\n",
      "\u001b[?25hCollecting sgmllib3k\n",
      "  Downloading sgmllib3k-1.0.0.tar.gz (5.8 kB)\n",
      "  Preparing metadata (setup.py) ... \u001b[?25ldone\n",
      "\u001b[?25hRequirement already satisfied: pytz>=2020.1 in /usr/local/lib/python3.10/site-packages (from pandas->yahoo_fin) (2022.7)\n",
      "Requirement already satisfied: python-dateutil>=2.8.1 in /usr/local/lib/python3.10/site-packages (from pandas->yahoo_fin) (2.8.2)\n",
      "Requirement already satisfied: numpy>=1.21.0 in /usr/local/lib/python3.10/site-packages (from pandas->yahoo_fin) (1.24.1)\n",
      "Requirement already satisfied: charset-normalizer<3,>=2 in /usr/local/lib/python3.10/site-packages (from requests->yahoo_fin) (2.1.1)\n",
      "Requirement already satisfied: idna<4,>=2.5 in /usr/local/lib/python3.10/site-packages (from requests->yahoo_fin) (3.4)\n",
      "Requirement already satisfied: certifi>=2017.4.17 in /usr/local/lib/python3.10/site-packages (from requests->yahoo_fin) (2022.12.7)\n",
      "Requirement already satisfied: urllib3<1.27,>=1.21.1 in /usr/local/lib/python3.10/site-packages (from requests->yahoo_fin) (1.26.13)\n",
      "Collecting bs4\n",
      "  Downloading bs4-0.0.1.tar.gz (1.1 kB)\n",
      "  Preparing metadata (setup.py) ... \u001b[?25ldone\n",
      "\u001b[?25hCollecting pyquery\n",
      "  Downloading pyquery-2.0.0-py3-none-any.whl (22 kB)\n",
      "Collecting w3lib\n",
      "  Downloading w3lib-2.1.1-py3-none-any.whl (21 kB)\n",
      "Collecting fake-useragent\n",
      "  Downloading fake_useragent-1.1.1-py3-none-any.whl (50 kB)\n",
      "\u001b[2K     \u001b[90m━━━━━━━━━━━━━━━━━━━━━━━━━━━━━━━━━━━━━━━━\u001b[0m \u001b[32m50.4/50.4 kB\u001b[0m \u001b[31m1.8 MB/s\u001b[0m eta \u001b[36m0:00:00\u001b[0m\n",
      "\u001b[?25hCollecting parse\n",
      "  Downloading parse-1.19.0.tar.gz (30 kB)\n",
      "  Preparing metadata (setup.py) ... \u001b[?25ldone\n",
      "\u001b[?25hCollecting pyppeteer>=0.0.14\n",
      "  Downloading pyppeteer-1.0.2-py3-none-any.whl (83 kB)\n",
      "\u001b[2K     \u001b[90m━━━━━━━━━━━━━━━━━━━━━━━━━━━━━━━━━━━━━━━━\u001b[0m \u001b[32m83.4/83.4 kB\u001b[0m \u001b[31m3.1 MB/s\u001b[0m eta \u001b[36m0:00:00\u001b[0m\n",
      "\u001b[?25hRequirement already satisfied: appdirs<2.0.0,>=1.4.3 in /usr/local/lib/python3.10/site-packages (from pyppeteer>=0.0.14->requests-html->yahoo_fin) (1.4.4)\n",
      "Collecting tqdm<5.0.0,>=4.42.1\n",
      "  Downloading tqdm-4.64.1-py2.py3-none-any.whl (78 kB)\n",
      "\u001b[2K     \u001b[90m━━━━━━━━━━━━━━━━━━━━━━━━━━━━━━━━━━━━━━━━\u001b[0m \u001b[32m78.5/78.5 kB\u001b[0m \u001b[31m3.1 MB/s\u001b[0m eta \u001b[36m0:00:00\u001b[0m\n",
      "\u001b[?25hCollecting importlib-metadata>=1.4\n",
      "  Downloading importlib_metadata-6.0.0-py3-none-any.whl (21 kB)\n",
      "Collecting pyee<9.0.0,>=8.1.0\n",
      "  Downloading pyee-8.2.2-py2.py3-none-any.whl (12 kB)\n",
      "Collecting websockets<11.0,>=10.0\n",
      "  Downloading websockets-10.4-cp310-cp310-macosx_10_9_x86_64.whl (97 kB)\n",
      "\u001b[2K     \u001b[90m━━━━━━━━━━━━━━━━━━━━━━━━━━━━━━━━━━━━━━━━\u001b[0m \u001b[32m97.9/97.9 kB\u001b[0m \u001b[31m3.2 MB/s\u001b[0m eta \u001b[36m0:00:00\u001b[0m\n",
      "\u001b[?25hRequirement already satisfied: six>=1.5 in /usr/local/lib/python3.10/site-packages (from python-dateutil>=2.8.1->pandas->yahoo_fin) (1.16.0)\n",
      "Requirement already satisfied: beautifulsoup4 in /usr/local/lib/python3.10/site-packages (from bs4->requests-html->yahoo_fin) (4.11.1)\n",
      "Collecting cssselect>=1.2.0\n",
      "  Downloading cssselect-1.2.0-py2.py3-none-any.whl (18 kB)\n",
      "Requirement already satisfied: lxml>=2.1 in /usr/local/lib/python3.10/site-packages (from pyquery->requests-html->yahoo_fin) (4.9.2)\n",
      "Collecting zipp>=0.5\n",
      "  Downloading zipp-3.11.0-py3-none-any.whl (6.6 kB)\n",
      "Requirement already satisfied: soupsieve>1.2 in /usr/local/lib/python3.10/site-packages (from beautifulsoup4->bs4->requests-html->yahoo_fin) (2.3.2.post1)\n",
      "Building wheels for collected packages: bs4, parse, sgmllib3k\n",
      "  Building wheel for bs4 (setup.py) ... \u001b[?25ldone\n",
      "\u001b[?25h  Created wheel for bs4: filename=bs4-0.0.1-py3-none-any.whl size=1256 sha256=a2697b4c0fc3d429203c7e96953f76bef35f65f709a9dff7ce61705e71a985aa\n",
      "  Stored in directory: /Users/hiya/Library/Caches/pip/wheels/e4/62/1d/d4d1bc4f33350ff84227f89b258edb552d604138e3739f5c83\n",
      "  Building wheel for parse (setup.py) ... \u001b[?25ldone\n",
      "\u001b[?25h  Created wheel for parse: filename=parse-1.19.0-py3-none-any.whl size=24570 sha256=807cc0266059220da76847594587a11b82b86dec4b14fc766fd49c777d7a16c5\n",
      "  Stored in directory: /Users/hiya/Library/Caches/pip/wheels/03/d9/92/db136347b5bcba7d271a3c042ce8c9c279e0ecd79173bb0a6e\n",
      "  Building wheel for sgmllib3k (setup.py) ... \u001b[?25ldone\n",
      "\u001b[?25h  Created wheel for sgmllib3k: filename=sgmllib3k-1.0.0-py3-none-any.whl size=6047 sha256=1125ac30e1b38c5125e039626aaa836d6f8e300e4da3b618cc9055f856190931\n",
      "  Stored in directory: /Users/hiya/Library/Caches/pip/wheels/3b/24/68/f82c1fe16fe6cc7c6f9f67fe4bbf2a4ce527dea6b14a4b34ee\n",
      "Successfully built bs4 parse sgmllib3k\n",
      "Installing collected packages: sgmllib3k, pyee, parse, fake-useragent, zipp, websockets, w3lib, tqdm, feedparser, cssselect, pyquery, importlib-metadata, bs4, pyppeteer, requests-html, yahoo_fin\n",
      "Successfully installed bs4-0.0.1 cssselect-1.2.0 fake-useragent-1.1.1 feedparser-6.0.10 importlib-metadata-6.0.0 parse-1.19.0 pyee-8.2.2 pyppeteer-1.0.2 pyquery-2.0.0 requests-html-0.10.0 sgmllib3k-1.0.0 tqdm-4.64.1 w3lib-2.1.1 websockets-10.4 yahoo_fin-0.8.9.1 zipp-3.11.0\n"
     ]
    }
   ],
   "source": [
    "# Install a pip package in the current Jupyter kernel\n",
    "import sys\n",
    "!{sys.executable} -m pip install yahoo_fin"
   ]
  },
  {
   "cell_type": "code",
   "execution_count": 10,
   "id": "9f35371c-5b96-434d-92a5-965d2e76edad",
   "metadata": {},
   "outputs": [
    {
     "name": "stdout",
     "output_type": "stream",
     "text": [
      "dict_keys(['zip', 'sector', 'fullTimeEmployees', 'longBusinessSummary', 'city', 'phone', 'state', 'country', 'companyOfficers', 'website', 'maxAge', 'address1', 'industry', 'ebitdaMargins', 'profitMargins', 'grossMargins', 'operatingCashflow', 'revenueGrowth', 'operatingMargins', 'ebitda', 'targetLowPrice', 'recommendationKey', 'grossProfits', 'freeCashflow', 'targetMedianPrice', 'currentPrice', 'earningsGrowth', 'currentRatio', 'returnOnAssets', 'numberOfAnalystOpinions', 'targetMeanPrice', 'debtToEquity', 'returnOnEquity', 'targetHighPrice', 'totalCash', 'totalDebt', 'totalRevenue', 'totalCashPerShare', 'financialCurrency', 'revenuePerShare', 'quickRatio', 'recommendationMean', 'exchange', 'shortName', 'longName', 'exchangeTimezoneName', 'exchangeTimezoneShortName', 'isEsgPopulated', 'gmtOffSetMilliseconds', 'quoteType', 'symbol', 'messageBoardId', 'market', 'annualHoldingsTurnover', 'enterpriseToRevenue', 'beta3Year', 'enterpriseToEbitda', '52WeekChange', 'morningStarRiskRating', 'forwardEps', 'revenueQuarterlyGrowth', 'sharesOutstanding', 'fundInceptionDate', 'annualReportExpenseRatio', 'totalAssets', 'bookValue', 'sharesShort', 'sharesPercentSharesOut', 'fundFamily', 'lastFiscalYearEnd', 'heldPercentInstitutions', 'netIncomeToCommon', 'trailingEps', 'lastDividendValue', 'SandP52WeekChange', 'priceToBook', 'heldPercentInsiders', 'nextFiscalYearEnd', 'yield', 'mostRecentQuarter', 'shortRatio', 'sharesShortPreviousMonthDate', 'floatShares', 'beta', 'enterpriseValue', 'priceHint', 'threeYearAverageReturn', 'lastSplitDate', 'lastSplitFactor', 'legalType', 'lastDividendDate', 'morningStarOverallRating', 'earningsQuarterlyGrowth', 'priceToSalesTrailing12Months', 'dateShortInterest', 'pegRatio', 'ytdReturn', 'forwardPE', 'lastCapGain', 'shortPercentOfFloat', 'sharesShortPriorMonth', 'impliedSharesOutstanding', 'category', 'fiveYearAverageReturn', 'previousClose', 'regularMarketOpen', 'twoHundredDayAverage', 'trailingAnnualDividendYield', 'payoutRatio', 'volume24Hr', 'regularMarketDayHigh', 'navPrice', 'averageDailyVolume10Day', 'regularMarketPreviousClose', 'fiftyDayAverage', 'trailingAnnualDividendRate', 'open', 'toCurrency', 'averageVolume10days', 'expireDate', 'algorithm', 'dividendRate', 'exDividendDate', 'circulatingSupply', 'startDate', 'regularMarketDayLow', 'currency', 'trailingPE', 'regularMarketVolume', 'lastMarket', 'maxSupply', 'openInterest', 'marketCap', 'volumeAllCurrencies', 'strikePrice', 'averageVolume', 'dayLow', 'ask', 'askSize', 'volume', 'fiftyTwoWeekHigh', 'fromCurrency', 'fiveYearAvgDividendYield', 'fiftyTwoWeekLow', 'bid', 'tradeable', 'dividendYield', 'bidSize', 'dayHigh', 'coinMarketCapLink', 'regularMarketPrice', 'preMarketPrice', 'logo_url', 'trailingPegRatio'])\n"
     ]
    }
   ],
   "source": [
    "import yfinance as yf\n",
    "\n",
    "# Get the stock data for Apple Inc.\n",
    "stock = yf.Ticker(\"AAPL\")\n",
    "\n",
    "# Access the financials data\n",
    "financials = stock.financials\n",
    "\n",
    "# Print the financials data\n",
    "# print(financials[\"2022-09-30\"])\n",
    "\n",
    "print(stock.info.keys())"
   ]
  },
  {
   "cell_type": "code",
   "execution_count": 21,
   "id": "223f18e5-478b-467f-83a3-d13aaf75b73a",
   "metadata": {},
   "outputs": [],
   "source": [
    "import pandas as pd\n",
    "from yahoo_fin import stock_info as si\n",
    "df1 = pd.DataFrame( si.tickers_sp500() )\n",
    "df2 = pd.DataFrame( si.tickers_nasdaq() )\n",
    "df3 = pd.DataFrame( si.tickers_dow() )"
   ]
  },
  {
   "cell_type": "code",
   "execution_count": 25,
   "id": "7fea0f3f-abd9-4ba4-bd45-f5e371bc0d8a",
   "metadata": {},
   "outputs": [
    {
     "name": "stdout",
     "output_type": "stream",
     "text": [
      "['LUNA', 'BACK', 'URI', 'HQI', 'PBAXW']\n",
      "5834\n"
     ]
    }
   ],
   "source": [
    "sym1 = set( symbol for symbol in df1[0].values.tolist() )\n",
    "sym2 = set( symbol for symbol in df2[0].values.tolist() )\n",
    "sym3 = set( symbol for symbol in df3[0].values.tolist() )\n",
    "symbols = list(set.union( sym1, sym2, sym3))\n",
    "print(symbols[:5])\n",
    "print(len(symbols))\n"
   ]
  },
  {
   "cell_type": "code",
   "execution_count": 37,
   "id": "5ae811ef-fca9-46bd-99e6-daff06d11e0b",
   "metadata": {},
   "outputs": [
    {
     "name": "stdout",
     "output_type": "stream",
     "text": [
      "PBAXW: No data found for this date range, symbol may be delisted\n",
      "Found one good stock!\n",
      "HMACU: No data found for this date range, symbol may be delisted\n",
      "Found one good stock!\n",
      "MEACW: No data found for this date range, symbol may be delisted\n",
      "Found one good stock!\n",
      "POWRU: No data found for this date range, symbol may be delisted\n",
      "Found one good stock!\n",
      "ARTEW: No data found for this date range, symbol may be delisted\n",
      "Found one good stock!\n",
      "Found one good stock!\n",
      "PGRWU: No data found for this date range, symbol may be delisted\n",
      "Found one good stock!\n",
      "ADER: No data found for this date range, symbol may be delisted\n",
      "Found one good stock!\n",
      "Found one good stock!\n",
      "ESACW: No data found for this date range, symbol may be delisted\n",
      "Found one good stock!\n",
      "[yfinance.Ticker object <PBAXW>, yfinance.Ticker object <HMACU>, yfinance.Ticker object <MEACW>, yfinance.Ticker object <POWRU>, yfinance.Ticker object <ARTEW>, yfinance.Ticker object <WTMA>, yfinance.Ticker object <PGRWU>, yfinance.Ticker object <ADER>, yfinance.Ticker object <EFTR>, yfinance.Ticker object <ESACW>]\n"
     ]
    }
   ],
   "source": [
    "import yfinance as yf\n",
    "\n",
    "def pick_stocks(ticker, fundamental_indicators, technical_indicators, picked_stocks):\n",
    "    # Use the `Ticker` function to retrieve stock data for the specified ticker\n",
    "    ticker_data = yf.Ticker(ticker)\n",
    "\n",
    "    # Use the `info` method to retrieve fundamental data for the stock\n",
    "    stock_info = ticker_data.info\n",
    "\n",
    "    # Check if the stock passes the fundamental indicators\n",
    "    if stock_info.get('trailingPE', 0) and stock_info['trailingPE'] > fundamental_indicators['pe_ratio_max']:\n",
    "        return False\n",
    "    if stock_info.get('priceToBook', 0) and stock_info['priceToBook'] > fundamental_indicators['pb_ratio_max']:\n",
    "        return False\n",
    "\n",
    "    # Use the `history` method to retrieve technical data for the stock\n",
    "    stock_history = ticker_data.history(period=\"1d\", interval=\"1m\")\n",
    "\n",
    "    # Check if the stock passes the technical indicators\n",
    "    if stock_history['Close'].mean() > technical_indicators['average_price_max']:\n",
    "        return False\n",
    "    if stock_history['Volume'].mean() < technical_indicators['average_volume_min']:\n",
    "        return False\n",
    "\n",
    "    # If the stock passes all the indicators, add it to the list of picked stocks\n",
    "    picked_stocks.append(ticker_data)\n",
    "    print(\"Found one good stock!\")\n",
    "    return True\n",
    "\n",
    "# Set the list of stock tickers to consider\n",
    "stock_tickers = symbols\n",
    "# Set the number of stocks to pick\n",
    "num_stocks = 10\n",
    "\n",
    "# Set the fundamental indicators\n",
    "fundamental_indicators = {\n",
    "    'pe_ratio_max': 20,\n",
    "    'pb_ratio_max': 2\n",
    "}\n",
    "\n",
    "# Set the technical indicators\n",
    "technical_indicators = {\n",
    "    'average_price_max': 100,\n",
    "    'average_volume_min': 10000\n",
    "}\n",
    "\n",
    "# Initialize an empty list to store the picked stocks\n",
    "picked_stocks = []\n",
    "\n",
    "# Iterate through the list of stock tickers and pick the stocks\n",
    "for ticker in stock_tickers:\n",
    "    pick_stocks(ticker, fundamental_indicators, technical_indicators, picked_stocks)\n",
    "    if len(picked_stocks) >= num_stocks: break\n",
    "\n",
    "# Print the list of picked stocks\n",
    "print(picked_stocks)\n"
   ]
  },
  {
   "cell_type": "code",
   "execution_count": 53,
   "id": "a2c6da3b-4b30-4f3e-bd7f-e3a4c711e2fa",
   "metadata": {},
   "outputs": [
    {
     "name": "stdout",
     "output_type": "stream",
     "text": [
      "PBAXW:Phoenix Biotech Acquisition Corp. Warrants\n",
      "HMACU:Hainan Manaslu Acquisition Corp\n",
      "MEACW:Mercury Ecommerce Acquisition Corp Warrants\n",
      "POWRU:Powered Brands\n",
      "ARTEW:Artemis Strategic Investment Corporation Warrant\n",
      "WTMA:Welsbach Technology Metals Acqu\n",
      "PGRWU:Progress Acquisition Corp.\n",
      "ADER:26 Capital Acquisition Corp.\n",
      "EFTR:eFFECTOR Therapeutics, Inc.\n",
      "ESACW:ESGEN ACQUISITION CORP C/WTS (T\n"
     ]
    }
   ],
   "source": [
    "for t in picked_stocks:\n",
    "    print(t.info['symbol'] + \":\" + t.info['shortName'])"
   ]
  },
  {
   "cell_type": "code",
   "execution_count": null,
   "id": "0e407c75-14e9-4557-bccd-394d2a385af7",
   "metadata": {},
   "outputs": [],
   "source": []
  }
 ],
 "metadata": {
  "kernelspec": {
   "display_name": "Python 3 (ipykernel)",
   "language": "python",
   "name": "python3"
  },
  "language_info": {
   "codemirror_mode": {
    "name": "ipython",
    "version": 3
   },
   "file_extension": ".py",
   "mimetype": "text/x-python",
   "name": "python",
   "nbconvert_exporter": "python",
   "pygments_lexer": "ipython3",
   "version": "3.10.9"
  }
 },
 "nbformat": 4,
 "nbformat_minor": 5
}
