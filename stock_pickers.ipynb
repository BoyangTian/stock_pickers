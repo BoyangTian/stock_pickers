{
 "cells": [
  {
   "cell_type": "code",
   "execution_count": 1,
   "id": "a18ceec2-132e-4693-9cd4-7d84199ce313",
   "metadata": {},
   "outputs": [
    {
     "name": "stdout",
     "output_type": "stream",
     "text": [
      "Requirement already satisfied: yfinance in /home/yh/anaconda3/envs/startup_env/lib/python3.10/site-packages (0.2.30)\n",
      "Requirement already satisfied: yahoo_fin in /home/yh/anaconda3/envs/startup_env/lib/python3.10/site-packages (0.8.9.1)\n",
      "Requirement already satisfied: pandas>=1.3.0 in /home/yh/anaconda3/envs/startup_env/lib/python3.10/site-packages (from yfinance) (2.0.3)\n",
      "Requirement already satisfied: numpy>=1.16.5 in /home/yh/anaconda3/envs/startup_env/lib/python3.10/site-packages (from yfinance) (1.24.4)\n",
      "Requirement already satisfied: requests>=2.31 in /home/yh/anaconda3/envs/startup_env/lib/python3.10/site-packages (from yfinance) (2.31.0)\n",
      "Requirement already satisfied: multitasking>=0.0.7 in /home/yh/anaconda3/envs/startup_env/lib/python3.10/site-packages (from yfinance) (0.0.11)\n",
      "Requirement already satisfied: lxml>=4.9.1 in /home/yh/anaconda3/envs/startup_env/lib/python3.10/site-packages (from yfinance) (4.9.1)\n",
      "Requirement already satisfied: appdirs>=1.4.4 in /home/yh/anaconda3/envs/startup_env/lib/python3.10/site-packages (from yfinance) (1.4.4)\n",
      "Requirement already satisfied: pytz>=2022.5 in /home/yh/anaconda3/envs/startup_env/lib/python3.10/site-packages (from yfinance) (2023.3)\n",
      "Requirement already satisfied: frozendict>=2.3.4 in /home/yh/anaconda3/envs/startup_env/lib/python3.10/site-packages (from yfinance) (2.3.8)\n",
      "Requirement already satisfied: peewee>=3.16.2 in /home/yh/anaconda3/envs/startup_env/lib/python3.10/site-packages (from yfinance) (3.16.3)\n",
      "Requirement already satisfied: beautifulsoup4>=4.11.1 in /home/yh/anaconda3/envs/startup_env/lib/python3.10/site-packages (from yfinance) (4.12.2)\n",
      "Requirement already satisfied: html5lib>=1.1 in /home/yh/anaconda3/envs/startup_env/lib/python3.10/site-packages (from yfinance) (1.1)\n",
      "Requirement already satisfied: requests-html in /home/yh/anaconda3/envs/startup_env/lib/python3.10/site-packages (from yahoo_fin) (0.10.0)\n",
      "Requirement already satisfied: feedparser in /home/yh/anaconda3/envs/startup_env/lib/python3.10/site-packages (from yahoo_fin) (6.0.10)\n",
      "Requirement already satisfied: soupsieve>1.2 in /home/yh/anaconda3/envs/startup_env/lib/python3.10/site-packages (from beautifulsoup4>=4.11.1->yfinance) (2.3.2.post1)\n",
      "Requirement already satisfied: six>=1.9 in /home/yh/anaconda3/envs/startup_env/lib/python3.10/site-packages (from html5lib>=1.1->yfinance) (1.16.0)\n",
      "Requirement already satisfied: webencodings in /home/yh/anaconda3/envs/startup_env/lib/python3.10/site-packages (from html5lib>=1.1->yfinance) (0.5.1)\n",
      "Requirement already satisfied: python-dateutil>=2.8.2 in /home/yh/anaconda3/envs/startup_env/lib/python3.10/site-packages (from pandas>=1.3.0->yfinance) (2.8.2)\n",
      "Requirement already satisfied: tzdata>=2022.1 in /home/yh/anaconda3/envs/startup_env/lib/python3.10/site-packages (from pandas>=1.3.0->yfinance) (2023.3)\n",
      "Requirement already satisfied: charset-normalizer<4,>=2 in /home/yh/anaconda3/envs/startup_env/lib/python3.10/site-packages (from requests>=2.31->yfinance) (3.2.0)\n",
      "Requirement already satisfied: idna<4,>=2.5 in /home/yh/anaconda3/envs/startup_env/lib/python3.10/site-packages (from requests>=2.31->yfinance) (3.4)\n",
      "Requirement already satisfied: urllib3<3,>=1.21.1 in /home/yh/anaconda3/envs/startup_env/lib/python3.10/site-packages (from requests>=2.31->yfinance) (1.26.16)\n",
      "Requirement already satisfied: certifi>=2017.4.17 in /home/yh/anaconda3/envs/startup_env/lib/python3.10/site-packages (from requests>=2.31->yfinance) (2023.7.22)\n",
      "Requirement already satisfied: sgmllib3k in /home/yh/anaconda3/envs/startup_env/lib/python3.10/site-packages (from feedparser->yahoo_fin) (1.0.0)\n",
      "Requirement already satisfied: pyquery in /home/yh/anaconda3/envs/startup_env/lib/python3.10/site-packages (from requests-html->yahoo_fin) (2.0.0)\n",
      "Requirement already satisfied: fake-useragent in /home/yh/anaconda3/envs/startup_env/lib/python3.10/site-packages (from requests-html->yahoo_fin) (1.1.3)\n",
      "Requirement already satisfied: parse in /home/yh/anaconda3/envs/startup_env/lib/python3.10/site-packages (from requests-html->yahoo_fin) (1.19.1)\n",
      "Requirement already satisfied: bs4 in /home/yh/anaconda3/envs/startup_env/lib/python3.10/site-packages (from requests-html->yahoo_fin) (0.0.1)\n",
      "Requirement already satisfied: w3lib in /home/yh/anaconda3/envs/startup_env/lib/python3.10/site-packages (from requests-html->yahoo_fin) (2.1.2)\n",
      "Requirement already satisfied: pyppeteer>=0.0.14 in /home/yh/anaconda3/envs/startup_env/lib/python3.10/site-packages (from requests-html->yahoo_fin) (1.0.2)\n",
      "Requirement already satisfied: importlib-metadata>=1.4 in /home/yh/anaconda3/envs/startup_env/lib/python3.10/site-packages (from pyppeteer>=0.0.14->requests-html->yahoo_fin) (6.8.0)\n",
      "Requirement already satisfied: pyee<9.0.0,>=8.1.0 in /home/yh/anaconda3/envs/startup_env/lib/python3.10/site-packages (from pyppeteer>=0.0.14->requests-html->yahoo_fin) (8.2.2)\n",
      "Requirement already satisfied: tqdm<5.0.0,>=4.42.1 in /home/yh/anaconda3/envs/startup_env/lib/python3.10/site-packages (from pyppeteer>=0.0.14->requests-html->yahoo_fin) (4.66.1)\n",
      "Requirement already satisfied: websockets<11.0,>=10.0 in /home/yh/anaconda3/envs/startup_env/lib/python3.10/site-packages (from pyppeteer>=0.0.14->requests-html->yahoo_fin) (10.4)\n",
      "Requirement already satisfied: cssselect>=1.2.0 in /home/yh/anaconda3/envs/startup_env/lib/python3.10/site-packages (from pyquery->requests-html->yahoo_fin) (1.2.0)\n",
      "Requirement already satisfied: zipp>=0.5 in /home/yh/anaconda3/envs/startup_env/lib/python3.10/site-packages (from importlib-metadata>=1.4->pyppeteer>=0.0.14->requests-html->yahoo_fin) (3.16.2)\n"
     ]
    }
   ],
   "source": [
    "# Install a pip package in the current Jupyter kernel\n",
    "import sys\n",
    "!{sys.executable} -m pip install yfinance yahoo_fin"
   ]
  },
  {
   "cell_type": "code",
   "execution_count": 2,
   "id": "9f35371c-5b96-434d-92a5-965d2e76edad",
   "metadata": {},
   "outputs": [
    {
     "name": "stdout",
     "output_type": "stream",
     "text": [
      "{'address1': 'One Apple Park Way', 'city': 'Cupertino', 'state': 'CA', 'zip': '95014', 'country': 'United States', 'phone': '408 996 1010', 'website': 'https://www.apple.com', 'industry': 'Consumer Electronics', 'sector': 'Technology', 'longBusinessSummary': 'Apple Inc. designs, manufactures, and markets smartphones, personal computers, tablets, wearables, and accessories worldwide. The company offers iPhone, a line of smartphones; Mac, a line of personal computers; iPad, a line of multi-purpose tablets; and wearables, home, and accessories comprising AirPods, Apple TV, Apple Watch, Beats products, and HomePod. It also provides AppleCare support and cloud services; and operates various platforms, including the App Store that allow customers to discover and download applications and digital content, such as books, music, video, games, and podcasts. In addition, the company offers various services, such as Apple Arcade, a game subscription service; Apple Fitness+, a personalized fitness service; Apple Music, which offers users a curated listening experience with on-demand radio stations; Apple News+, a subscription news and magazine service; Apple TV+, which offers exclusive original content; Apple Card, a co-branded credit card; and Apple Pay, a cashless payment service, as well as licenses its intellectual property. The company serves consumers, and small and mid-sized businesses; and the education, enterprise, and government markets. It distributes third-party applications for its products through the App Store. The company also sells its products through its retail and online stores, and direct sales force; and third-party cellular network carriers, wholesalers, retailers, and resellers. Apple Inc. was incorporated in 1977 and is headquartered in Cupertino, California.', 'fullTimeEmployees': 164000, 'companyOfficers': [{'maxAge': 1, 'name': 'Mr. Timothy D. Cook', 'age': 61, 'title': 'CEO & Director', 'yearBorn': 1961, 'fiscalYear': 2022, 'totalPay': 16425933, 'exercisedValue': 0, 'unexercisedValue': 0}, {'maxAge': 1, 'name': 'Mr. Luca  Maestri', 'age': 59, 'title': 'CFO & Sr. VP', 'yearBorn': 1963, 'fiscalYear': 2022, 'totalPay': 5019783, 'exercisedValue': 0, 'unexercisedValue': 0}, {'maxAge': 1, 'name': 'Mr. Jeffrey E. Williams', 'age': 58, 'title': 'Chief Operating Officer', 'yearBorn': 1964, 'fiscalYear': 2022, 'totalPay': 5018337, 'exercisedValue': 0, 'unexercisedValue': 0}, {'maxAge': 1, 'name': 'Ms. Katherine L. Adams', 'age': 58, 'title': 'Sr. VP, Gen. Counsel & Sec.', 'yearBorn': 1964, 'fiscalYear': 2022, 'totalPay': 5015208, 'exercisedValue': 0, 'unexercisedValue': 0}, {'maxAge': 1, 'name': \"Ms. Deirdre  O'Brien\", 'age': 55, 'title': 'Sr. VP of Retail', 'yearBorn': 1967, 'fiscalYear': 2022, 'totalPay': 5019783, 'exercisedValue': 0, 'unexercisedValue': 0}, {'maxAge': 1, 'name': 'Mr. Chris  Kondo', 'title': 'Sr. Director of Corp. Accounting', 'exercisedValue': 0, 'unexercisedValue': 0}, {'maxAge': 1, 'name': 'Mr. James  Wilson', 'title': 'Chief Technology Officer', 'exercisedValue': 0, 'unexercisedValue': 0}, {'maxAge': 1, 'name': 'Ms. Mary  Demby', 'title': 'Chief Information Officer', 'exercisedValue': 0, 'unexercisedValue': 0}, {'maxAge': 1, 'name': 'Ms. Nancy  Paxton', 'title': 'Sr. Director of Investor Relations & Treasury', 'exercisedValue': 0, 'unexercisedValue': 0}, {'maxAge': 1, 'name': 'Mr. Greg  Joswiak', 'title': 'Sr. VP of Worldwide Marketing', 'exercisedValue': 0, 'unexercisedValue': 0}], 'auditRisk': 4, 'boardRisk': 1, 'compensationRisk': 5, 'shareHolderRightsRisk': 1, 'overallRisk': 1, 'governanceEpochDate': 1693526400, 'compensationAsOfEpochDate': 1672444800, 'maxAge': 86400, 'priceHint': 2, 'previousClose': 171.96, 'open': 172.62, 'dayLow': 169.05, 'dayHigh': 173.04, 'regularMarketPreviousClose': 171.96, 'regularMarketOpen': 172.62, 'regularMarketDayLow': 169.05, 'regularMarketDayHigh': 173.04, 'dividendRate': 0.96, 'dividendYield': 0.0056, 'exDividendDate': 1691712000, 'payoutRatio': 0.156, 'fiveYearAvgDividendYield': 0.86, 'beta': 1.274896, 'trailingPE': 28.547739, 'forwardPE': 27.400322, 'volume': 66763827, 'regularMarketVolume': 66763827, 'averageVolume': 58151792, 'averageVolume10days': 66229160, 'averageDailyVolume10Day': 66229160, 'bid': 170.45, 'ask': 170.31, 'bidSize': 1000, 'askSize': 1000, 'marketCap': 2664536473600, 'fiftyTwoWeekLow': 124.17, 'fiftyTwoWeekHigh': 198.23, 'priceToSalesTrailing12Months': 6.9401083, 'fiftyDayAverage': 182.6584, 'twoHundredDayAverage': 165.8069, 'trailingAnnualDividendRate': 0.93, 'trailingAnnualDividendYield': 0.0054082344, 'currency': 'USD', 'enterpriseValue': 2735260565504, 'profitMargins': 0.24681, 'floatShares': 15616878002, 'sharesOutstanding': 15634199552, 'sharesShort': 107325921, 'sharesShortPriorMonth': 88852352, 'sharesShortPreviousMonthDate': 1692057600, 'dateShortInterest': 1694736000, 'sharesPercentSharesOut': 0.0069, 'heldPercentInsiders': 0.00071999995, 'heldPercentInstitutions': 0.61317, 'shortRatio': 1.72, 'shortPercentOfFloat': 0.0069, 'bookValue': 3.852, 'priceToBook': 44.244545, 'lastFiscalYearEnd': 1663977600, 'nextFiscalYearEnd': 1695513600, 'mostRecentQuarter': 1688169600, 'earningsQuarterlyGrowth': 0.023, 'netIncomeToCommon': 94760001536, 'trailingEps': 5.97, 'forwardEps': 6.22, 'pegRatio': 4.29, 'lastSplitFactor': '4:1', 'lastSplitDate': 1598832000, 'enterpriseToRevenue': 7.124, 'enterpriseToEbitda': 22.066, 'exchange': 'NMS', 'quoteType': 'EQUITY', 'symbol': 'AAPL', 'underlyingSymbol': 'AAPL', 'shortName': 'Apple Inc.', 'longName': 'Apple Inc.', 'firstTradeDateEpochUtc': 345479400, 'timeZoneFullName': 'America/New_York', 'timeZoneShortName': 'EDT', 'gmtOffSetMilliseconds': -14400000, 'currentPrice': 170.43, 'targetHighPrice': 226.59, 'targetLowPrice': 140.68, 'targetMeanPrice': 188.43, 'targetMedianPrice': 188.83, 'recommendationMean': 2.0, 'recommendationKey': 'buy', 'numberOfAnalystOpinions': 37, 'totalCash': 62482001920, 'totalCashPerShare': 3.996, 'ebitda': 123957002240, 'totalDebt': 109280002048, 'quickRatio': 0.814, 'currentRatio': 0.982, 'totalRevenue': 383932989440, 'debtToEquity': 181.305, 'revenuePerShare': 24.22, 'returnOnAssets': 0.20896, 'returnOnEquity': 1.60093, 'grossProfits': 170782000000, 'freeCashflow': 90680500224, 'operatingCashflow': 113071996928, 'earningsGrowth': 0.05, 'revenueGrowth': -0.014, 'grossMargins': 0.43449003, 'ebitdaMargins': 0.32286, 'operatingMargins': 0.29231, 'financialCurrency': 'USD', 'trailingPegRatio': 2.1903}\n"
     ]
    }
   ],
   "source": [
    "import yfinance as yf\n",
    "\n",
    "# Get the stock data for Apple Inc.\n",
    "stock = yf.Ticker(\"AAPL\")\n",
    "\n",
    "# Access the financials data\n",
    "financials = stock.financials\n",
    "\n",
    "# Print the financials data\n",
    "# print(financials[\"2022-09-30\"])\n",
    "\n",
    "print(stock.info)"
   ]
  },
  {
   "cell_type": "code",
   "execution_count": 3,
   "id": "223f18e5-478b-467f-83a3-d13aaf75b73a",
   "metadata": {},
   "outputs": [],
   "source": [
    "import pandas as pd\n",
    "from yahoo_fin import stock_info as si\n",
    "df1 = pd.DataFrame( si.tickers_sp500() )\n",
    "df2 = pd.DataFrame( si.tickers_nasdaq() )\n",
    "df3 = pd.DataFrame( si.tickers_dow() )"
   ]
  },
  {
   "cell_type": "code",
   "execution_count": 4,
   "id": "7fea0f3f-abd9-4ba4-bd45-f5e371bc0d8a",
   "metadata": {},
   "outputs": [
    {
     "name": "stdout",
     "output_type": "stream",
     "text": [
      "['KRYS', 'ASCA', 'DPRO', 'SSBK', 'KBWD']\n",
      "5148\n"
     ]
    }
   ],
   "source": [
    "sym1 = set( symbol for symbol in df1[0].values.tolist() )\n",
    "sym2 = set( symbol for symbol in df2[0].values.tolist() )\n",
    "sym3 = set( symbol for symbol in df3[0].values.tolist() )\n",
    "symbols = list(set.union( sym1, sym2, sym3))\n",
    "print(symbols[:5])\n",
    "print(len(symbols))\n"
   ]
  },
  {
   "cell_type": "code",
   "execution_count": 18,
   "id": "5ae811ef-fca9-46bd-99e6-daff06d11e0b",
   "metadata": {},
   "outputs": [
    {
     "name": "stderr",
     "output_type": "stream",
     "text": [
      "Processing stocks:   1%|▌                                                  | 56/5148 [00:02<03:09, 26.91it/s]"
     ]
    },
    {
     "name": "stdout",
     "output_type": "stream",
     "text": [
      "PLPC Passed first 3 fundamental filters.....\n",
      "OCUP Passed first 3 fundamental filters.....\n",
      "UTMD Passed first 3 fundamental filters.....\n",
      "UTMD Passed all fundamental filters.....\n"
     ]
    },
    {
     "name": "stderr",
     "output_type": "stream",
     "text": [
      "Processing stocks:   1%|▌                                                  | 56/5148 [00:19<03:09, 26.91it/s]"
     ]
    },
    {
     "name": "stdout",
     "output_type": "stream",
     "text": [
      "GSM Passed first 3 fundamental filters.....\n",
      "GSM Passed all fundamental filters.....\n",
      "Found one good stock!\n",
      "FANG Passed first 3 fundamental filters.....\n",
      "PSHG Passed first 3 fundamental filters.....\n",
      "BWMX Passed first 3 fundamental filters.....\n",
      "STLD Passed first 3 fundamental filters.....\n",
      "STLD Passed all fundamental filters.....\n",
      "LEGH Passed first 3 fundamental filters.....\n",
      "LEGH Passed all fundamental filters.....\n",
      "Found one good stock!\n",
      "PNT Passed first 3 fundamental filters.....\n",
      "PNT Passed all fundamental filters.....\n",
      "Found one good stock!\n",
      "MCRI Passed first 3 fundamental filters.....\n",
      "MCRI Passed all fundamental filters.....\n",
      "JFIN Passed first 3 fundamental filters.....\n",
      "VYGR Passed first 3 fundamental filters.....\n",
      "OMAB Passed first 3 fundamental filters.....\n",
      "CPRX Passed first 3 fundamental filters.....\n",
      "CPRX Passed all fundamental filters.....\n",
      "TXMD Passed first 3 fundamental filters.....\n",
      "TXMD Passed all fundamental filters.....\n",
      "RMR Passed first 3 fundamental filters.....\n",
      "RMR Passed all fundamental filters.....\n",
      "INMD Passed first 3 fundamental filters.....\n",
      "INMD Passed all fundamental filters.....\n",
      "Found one good stock!\n",
      "GDC Passed first 3 fundamental filters.....\n",
      "BELFB Passed first 3 fundamental filters.....\n",
      "BELFB Passed all fundamental filters.....\n",
      "Found one good stock!\n"
     ]
    },
    {
     "name": "stderr",
     "output_type": "stream",
     "text": [
      "Processing stocks:   1%|▌                                               | 58/5148 [02:37<16:23:15, 11.59s/it]"
     ]
    },
    {
     "name": "stdout",
     "output_type": "stream",
     "text": [
      "ITRN Passed first 3 fundamental filters.....\n",
      "ITRN Passed all fundamental filters.....\n",
      "Found one good stock!\n",
      "FWRD Passed first 3 fundamental filters.....\n",
      "FWRD Passed all fundamental filters.....\n",
      "TROW Passed first 3 fundamental filters.....\n",
      "TROW Passed all fundamental filters.....\n",
      "Found one good stock!\n",
      "SCYX Passed first 3 fundamental filters.....\n",
      "SCYX Passed all fundamental filters.....\n",
      "Found one good stock!\n",
      "HPK Passed first 3 fundamental filters.....\n"
     ]
    },
    {
     "name": "stderr",
     "output_type": "stream",
     "text": [
      "Processing stocks:  11%|█████▋                                            | 591/5148 [03:04<19:05,  3.98it/s]"
     ]
    },
    {
     "name": "stdout",
     "output_type": "stream",
     "text": [
      "ABLV Passed first 3 fundamental filters.....\n",
      "IMPP Passed first 3 fundamental filters.....\n",
      "IMPP Passed all fundamental filters.....\n",
      "WEYS Passed first 3 fundamental filters.....\n",
      "WEYS Passed all fundamental filters.....\n",
      "Found one good stock!\n",
      "ARLP Passed first 3 fundamental filters.....\n",
      "ARLP Passed all fundamental filters.....\n",
      "Found one good stock!\n",
      "STBX Passed first 3 fundamental filters.....\n",
      "STBX Passed all fundamental filters.....\n",
      "MNDO Passed first 3 fundamental filters.....\n",
      "MNDO Passed all fundamental filters.....\n"
     ]
    },
    {
     "name": "stderr",
     "output_type": "stream",
     "text": [
      "Processing stocks:  11%|█████▋                                            | 591/5148 [03:19<19:05,  3.98it/s]"
     ]
    },
    {
     "name": "stdout",
     "output_type": "stream",
     "text": [
      "CVCO Passed first 3 fundamental filters.....\n",
      "CVCO Passed all fundamental filters.....\n",
      "Found one good stock!\n"
     ]
    },
    {
     "name": "stderr",
     "output_type": "stream",
     "text": [
      "Processing stocks:  18%|█████████▏                                        | 941/5148 [03:27<11:23,  6.16it/s]"
     ]
    },
    {
     "name": "stdout",
     "output_type": "stream",
     "text": [
      "HNRG Passed first 3 fundamental filters.....\n",
      "HNRG Passed all fundamental filters.....\n",
      "ARHS Passed first 3 fundamental filters.....\n",
      "ARHS Passed all fundamental filters.....\n",
      "Found one good stock!\n",
      "Found one good stock!\n",
      "PLAB Passed first 3 fundamental filters.....\n",
      "PLAB Passed all fundamental filters.....\n",
      "Found one good stock!\n",
      "IMXI Passed first 3 fundamental filters.....\n"
     ]
    },
    {
     "name": "stderr",
     "output_type": "stream",
     "text": [
      "Processing stocks:  18%|█████████▏                                        | 941/5148 [03:39<11:23,  6.16it/s]"
     ]
    },
    {
     "name": "stdout",
     "output_type": "stream",
     "text": [
      "LICN Passed first 3 fundamental filters.....\n",
      "LICN Passed all fundamental filters.....\n",
      "DIOD Passed first 3 fundamental filters.....\n",
      "DIOD Passed all fundamental filters.....\n",
      "BELFA Passed first 3 fundamental filters.....\n",
      "BELFA Passed all fundamental filters.....\n",
      "Found one good stock!\n",
      "TIO Passed first 3 fundamental filters.....\n",
      "TIO Passed all fundamental filters.....\n",
      "CHK Passed first 3 fundamental filters.....\n",
      "CHK Passed all fundamental filters.....\n",
      "Found one good stock!\n",
      "SURG Passed first 3 fundamental filters.....\n",
      "SURG Passed all fundamental filters.....\n",
      "FGF Passed first 3 fundamental filters.....\n",
      "FGF Passed all fundamental filters.....\n",
      "MCFT Passed first 3 fundamental filters.....\n",
      "MCFT Passed all fundamental filters.....\n",
      "CROX Passed first 3 fundamental filters.....\n",
      "CROX Passed all fundamental filters.....\n",
      "CALM Passed first 3 fundamental filters.....\n",
      "CALM Passed all fundamental filters.....\n",
      "HRMY Passed first 3 fundamental filters.....\n",
      "HRMY Passed all fundamental filters.....\n",
      "AGMH Passed first 3 fundamental filters.....\n",
      "AGMH Passed all fundamental filters.....\n",
      "CLFD Passed first 3 fundamental filters.....\n",
      "CLFD Passed all fundamental filters.....\n",
      "EPSN Passed first 3 fundamental filters.....\n",
      "EPSN Passed all fundamental filters.....\n",
      "Found one good stock!\n",
      "CHCI Passed first 3 fundamental filters.....\n",
      "CHCI Passed all fundamental filters.....\n",
      "Found one good stock!\n",
      "ZYME Passed first 3 fundamental filters.....\n",
      "ZYME Passed all fundamental filters.....\n",
      "CCRN Passed first 3 fundamental filters.....\n",
      "CCRN Passed all fundamental filters.....\n",
      "ESEA Passed first 3 fundamental filters.....\n",
      "ESEA Passed all fundamental filters.....\n",
      "Found one good stock!\n",
      "JBSS Passed first 3 fundamental filters.....\n",
      "JBSS Passed all fundamental filters.....\n",
      "Found one good stock!\n",
      "METCB Passed first 3 fundamental filters.....\n"
     ]
    },
    {
     "name": "stderr",
     "output_type": "stream",
     "text": [
      "Processing stocks:  63%|██████████████████████████████▉                  | 3246/5148 [04:37<01:20, 23.66it/s]"
     ]
    },
    {
     "name": "stdout",
     "output_type": "stream",
     "text": [
      "ACDC Passed first 3 fundamental filters.....\n",
      "ACDC Passed all fundamental filters.....\n",
      "BNTX Passed first 3 fundamental filters.....\n",
      "BNTX Passed all fundamental filters.....\n"
     ]
    },
    {
     "name": "stderr",
     "output_type": "stream",
     "text": [
      "Processing stocks:  67%|████████████████████████████████▉                | 3467/5148 [04:49<01:13, 22.92it/s]"
     ]
    },
    {
     "name": "stdout",
     "output_type": "stream",
     "text": [
      "CTSH Passed first 3 fundamental filters.....\n",
      "CTSH Passed all fundamental filters.....\n",
      "Found one good stock!\n",
      "CHRD Passed first 3 fundamental filters.....\n",
      "CHRD Passed all fundamental filters.....\n",
      "Found one good stock!\n",
      "UG Passed first 3 fundamental filters.....\n",
      "UFPI Passed first 3 fundamental filters.....\n",
      "UFPI Passed all fundamental filters.....\n",
      "Found one good stock!\n",
      "BRY Passed first 3 fundamental filters.....\n",
      "BRY Passed all fundamental filters.....\n",
      "Found one good stock!\n",
      "VNOM Passed first 3 fundamental filters.....\n",
      "VNOM Passed all fundamental filters.....\n"
     ]
    },
    {
     "name": "stderr",
     "output_type": "stream",
     "text": [
      "Processing stocks:  73%|███████████████████████████████████▌             | 3734/5148 [05:04<01:05, 21.56it/s]"
     ]
    },
    {
     "name": "stdout",
     "output_type": "stream",
     "text": [
      "SEZL Passed first 3 fundamental filters.....\n",
      "USEA Passed first 3 fundamental filters.....\n"
     ]
    },
    {
     "name": "stderr",
     "output_type": "stream",
     "text": [
      "Processing stocks:  76%|█████████████████████████████████████▎           | 3920/5148 [05:14<00:59, 20.79it/s]"
     ]
    },
    {
     "name": "stdout",
     "output_type": "stream",
     "text": [
      "SHOO Passed first 3 fundamental filters.....\n",
      "SHOO Passed all fundamental filters.....\n",
      "UTHR Passed first 3 fundamental filters.....\n",
      "UTHR Passed all fundamental filters.....\n"
     ]
    },
    {
     "name": "stderr",
     "output_type": "stream",
     "text": [
      "Processing stocks:  76%|█████████████████████████████████████▎           | 3924/5148 [05:14<00:59, 20.60it/s]"
     ]
    },
    {
     "name": "stdout",
     "output_type": "stream",
     "text": [
      "QIWI Passed first 3 fundamental filters.....\n"
     ]
    },
    {
     "name": "stderr",
     "output_type": "stream",
     "text": [
      "Processing stocks:  79%|██████████████████████████████████████▌          | 4054/5148 [05:19<00:50, 21.71it/s]"
     ]
    },
    {
     "name": "stdout",
     "output_type": "stream",
     "text": [
      "QFIN Passed first 3 fundamental filters.....\n",
      "QFIN Passed all fundamental filters.....\n"
     ]
    },
    {
     "name": "stderr",
     "output_type": "stream",
     "text": [
      "Processing stocks:  83%|████████████████████████████████████████▌        | 4258/5148 [05:28<00:38, 22.92it/s]"
     ]
    },
    {
     "name": "stdout",
     "output_type": "stream",
     "text": [
      "DHIL Passed first 3 fundamental filters.....\n",
      "HDSN Passed first 3 fundamental filters.....\n",
      "HDSN Passed all fundamental filters.....\n",
      "Found one good stock!\n"
     ]
    },
    {
     "name": "stderr",
     "output_type": "stream",
     "text": [
      "Processing stocks:  83%|████████████████████████████████████████▌        | 4261/5148 [05:43<01:38,  9.03it/s]"
     ]
    },
    {
     "name": "stdout",
     "output_type": "stream",
     "text": [
      "HTTPSConnectionPool(host='query1.finance.yahoo.com', port=443): Max retries exceeded with url: /ws/fundamentals-timeseries/v1/finance/timeseries/LEGR?symbol=LEGR&type=trailingPegRatio&period1=1680134400&period2=1695945600 (Caused by NewConnectionError('<urllib3.connection.HTTPSConnection object at 0x7f3b2074f280>: Failed to establish a new connection: [Errno -3] Temporary failure in name resolution'))\n",
      "LPRO Passed first 3 fundamental filters.....\n",
      "LPRO Passed all fundamental filters.....\n",
      "Found one good stock!\n",
      "SMLR Passed first 3 fundamental filters.....\n",
      "SMLR Passed all fundamental filters.....\n",
      "WIRE Passed first 3 fundamental filters.....\n",
      "PFIE Passed first 3 fundamental filters.....\n",
      "PFIE Passed all fundamental filters.....\n",
      "Found one good stock!\n",
      "USLM Passed first 3 fundamental filters.....\n",
      "MBUU Passed first 3 fundamental filters.....\n",
      "MBUU Passed all fundamental filters.....\n",
      "METC Passed first 3 fundamental filters.....\n",
      "METC Passed all fundamental filters.....\n",
      "NMIH Passed first 3 fundamental filters.....\n",
      "SIGA Passed first 3 fundamental filters.....\n",
      "GRVY Passed first 3 fundamental filters.....\n",
      "COKE Passed first 3 fundamental filters.....\n",
      "COKE Passed all fundamental filters.....\n",
      "Found one good stock!\n",
      "TRMD Passed first 3 fundamental filters.....\n",
      "TRMD Passed all fundamental filters.....\n"
     ]
    },
    {
     "name": "stderr",
     "output_type": "stream",
     "text": [
      "Processing stocks: 100%|█████████████████████████████████████████████████| 5148/5148 [08:12<00:00, 10.45it/s]"
     ]
    },
    {
     "name": "stdout",
     "output_type": "stream",
     "text": [
      "[yfinance.Ticker object <GSM>, yfinance.Ticker object <LEGH>, yfinance.Ticker object <PNT>, yfinance.Ticker object <INMD>, yfinance.Ticker object <BELFB>, yfinance.Ticker object <ITRN>, yfinance.Ticker object <TROW>, yfinance.Ticker object <SCYX>, yfinance.Ticker object <WEYS>, yfinance.Ticker object <ARLP>, yfinance.Ticker object <CVCO>, yfinance.Ticker object <HNRG>, yfinance.Ticker object <ARHS>, yfinance.Ticker object <PLAB>, yfinance.Ticker object <BELFA>, yfinance.Ticker object <CHK>, yfinance.Ticker object <EPSN>, yfinance.Ticker object <CHCI>, yfinance.Ticker object <ESEA>, yfinance.Ticker object <JBSS>, yfinance.Ticker object <CTSH>, yfinance.Ticker object <CHRD>, yfinance.Ticker object <UFPI>, yfinance.Ticker object <BRY>, yfinance.Ticker object <HDSN>, yfinance.Ticker object <LPRO>, yfinance.Ticker object <PFIE>, yfinance.Ticker object <COKE>]\n"
     ]
    },
    {
     "name": "stderr",
     "output_type": "stream",
     "text": [
      "\n"
     ]
    }
   ],
   "source": [
    "import yfinance as yf\n",
    "def is_numeric(value):\n",
    "    return isinstance(value, (int, float))\n",
    "\n",
    "def pick_stocks(ticker, fundamental_indicators, technical_indicators, picked_stocks):\n",
    "    # Use the `Ticker` function to retrieve stock data for the specified ticker\n",
    "    ticker_data = yf.Ticker(ticker)\n",
    "\n",
    "    # Use the `info` method to retrieve fundamental data for the stock\n",
    "    stock_info = ticker_data.info\n",
    "    if not stock_info:\n",
    "        return False\n",
    "    \n",
    "    # Check if the stock passes the fundamental indicators\n",
    "    if not stock_info.get('trailingPE', 0) or not is_numeric(stock_info['trailingPE']) or stock_info['trailingPE'] > fundamental_indicators['pe_ratio_max']:\n",
    "        return False\n",
    "    if not stock_info.get('priceToBook', 0) or stock_info['priceToBook'] > fundamental_indicators['pb_ratio_max']:\n",
    "        return False\n",
    "    if not stock_info.get('returnOnAssets', 0) or stock_info['returnOnAssets'] < fundamental_indicators['return_on_assets_min']:\n",
    "        return False\n",
    "    # if not stock_info.get('returnOnEquity', 0) or stock_info['returnOnEquity'] < fundamental_indicators['return_on_equity_min']:\n",
    "    #    return False\n",
    "    #if not stock_info.get('debtToEquity', 0) or stock_info['debtToEquity'] > fundamental_indicators['debt_to_equity_max']:\n",
    "    #    return False\n",
    "    \n",
    "    print(f\"{ticker} Passed first 3 fundamental filters.....\")\n",
    "    \n",
    "    #print(stock_info.get('currentRatio', 0))\n",
    "    \n",
    "    if not stock_info.get('currentRatio', 0) or stock_info['currentRatio'] < fundamental_indicators['current_ratio_min']:\n",
    "        return False\n",
    "    \n",
    "    freeCashFlow = stock_info.get('freeCashflow', 0)\n",
    "    totalMarketValue = stock_info.get('regularMarketPreviousClose', 0) * stock_info.get('sharesOutstanding', 0)\n",
    "\n",
    "    #print(freeCashFlow, totalMarketValue)\n",
    "    \n",
    "    pcf = totalMarketValue / freeCashFlow if freeCashFlow else None\n",
    "    if not pcf or pcf > fundamental_indicators['price_to_free_cash_flow_max']:\n",
    "        return False\n",
    "    \n",
    "    \n",
    "    totalDebt = stock_info.get('totalDebt', 0)\n",
    "    #print(totalDebt)\n",
    "    debtToMarketValue = totalDebt / totalMarketValue if totalMarketValue else None\n",
    "    if not debtToMarketValue or debtToMarketValue > fundamental_indicators['debt_to_equity_max']:\n",
    "        return False\n",
    "    \n",
    "    \n",
    "    print(f\"{ticker} Passed all fundamental filters.....\")\n",
    "    \n",
    "    # Use the `history` method to retrieve technical data for the stock\n",
    "    stock_data = ticker_data.history(period=\"200d\", interval=\"1d\")\n",
    "\n",
    "    # Check if the stock passes the technical indicators\n",
    "    # Calculate the 50-day and 200-day moving averages\n",
    "    ma50 = stock_data['Close'][-50:].mean()\n",
    "    ma200 = stock_data['Close'][-200:].mean()\n",
    "\n",
    "    # Select the stocks where the 50-day moving average is above the 200-day moving average\n",
    "    if ma50 <= ma200:\n",
    "        return False\n",
    "\n",
    "    # If the stock passes all the indicators, add it to the list of picked stocks\n",
    "    picked_stocks.append(ticker_data)\n",
    "    print(\"Found one good stock!\")\n",
    "    return True\n",
    "\n",
    "# Set the list of stock tickers to consider\n",
    "stock_tickers = symbols\n",
    "# Set the number of stocks to pick\n",
    "num_stocks = 20\n",
    "\n",
    "# Set the fundamental indicators\n",
    "fundamental_indicators = {\n",
    "    'pe_ratio_max': 20,\n",
    "    'pb_ratio_max': 5,\n",
    "    'return_on_assets_min': 0.1,\n",
    "     #'return_on_equity_min': 0.05,\n",
    "    'debt_to_equity_max': 1.0,\n",
    "    'current_ratio_min': 0.5,\n",
    "    'price_to_free_cash_flow_max': 30\n",
    "}\n",
    "\n",
    "# Set the technical indicators\n",
    "technical_indicators = {\n",
    "    'average_price_max': 100,\n",
    "    'average_volume_min': 10000\n",
    "}\n",
    "\n",
    "# Initialize an empty list to store the picked stocks\n",
    "picked_stocks = []\n",
    "i = 0\n",
    "\n",
    "import concurrent.futures\n",
    "from tqdm import tqdm\n",
    "import time\n",
    "\n",
    "MAX_RETRIES = 5\n",
    "INITIAL_DELAY = 5  # in seconds\n",
    "THREAD_LIMIT = 5\n",
    "\n",
    "def process_stock(ticker):\n",
    "    retries = 0\n",
    "    delay = INITIAL_DELAY\n",
    "    while retries < MAX_RETRIES:\n",
    "        try:\n",
    "            pick_stocks(ticker, fundamental_indicators, technical_indicators, picked_stocks)\n",
    "            return ticker\n",
    "        except Exception as e:  # Replace this with the specific exception for 'too many requests' if known\n",
    "            if \"404 client error\" in str(e).lower():  # Check if the exception message contains 'too many requests'\n",
    "                retries += 1\n",
    "                time.sleep(delay)\n",
    "                delay *= 2  # Double the delay for the next retry\n",
    "            else:\n",
    "                print(e)  # If it's another exception, raise it\n",
    "    return None  # Return None if all retries fail\n",
    "\n",
    "# Assuming you have these variables defined somewhere in your code\n",
    "# stock_tickers = [...]\n",
    "# fundamental_indicators = {...}\n",
    "# technical_indicators = {...}\n",
    "# picked_stocks = [...]\n",
    "\n",
    "\n",
    "# Using ThreadPoolExecutor to parallelize the process\n",
    "with concurrent.futures.ThreadPoolExecutor(max_workers=THREAD_LIMIT) as executor:\n",
    "    for _ in tqdm(executor.map(process_stock, stock_tickers), total=len(stock_tickers), desc=\"Processing stocks\"):\n",
    "        continue\n",
    "\n",
    "# Print the list of picked stocks\n",
    "print(picked_stocks)\n"
   ]
  },
  {
   "cell_type": "code",
   "execution_count": 19,
   "id": "a2c6da3b-4b30-4f3e-bd7f-e3a4c711e2fa",
   "metadata": {},
   "outputs": [
    {
     "name": "stdout",
     "output_type": "stream",
     "text": [
      "GSM:Ferroglobe PLC\n",
      "LEGH:Legacy Housing Corporation\n",
      "PNT:POINT Biopharma Global Inc.\n",
      "INMD:InMode Ltd.\n",
      "BELFB:Bel Fuse Inc.\n",
      "ITRN:Ituran Location and Control Ltd\n",
      "TROW:T. Rowe Price Group, Inc.\n",
      "SCYX:SCYNEXIS, Inc.\n",
      "WEYS:Weyco Group, Inc.\n",
      "ARLP:Alliance Resource Partners, L.P\n",
      "CVCO:Cavco Industries, Inc.\n",
      "HNRG:Hallador Energy Company\n",
      "ARHS:Arhaus, Inc.\n",
      "PLAB:Photronics, Inc.\n",
      "BELFA:Bel Fuse Inc.\n",
      "CHK:Chesapeake Energy Corporation\n",
      "EPSN:Epsilon Energy Ltd.\n",
      "CHCI:Comstock Holding Companies, Inc\n",
      "ESEA:Euroseas Ltd.\n",
      "JBSS:John B. Sanfilippo & Son, Inc.\n",
      "CTSH:Cognizant Technology Solutions \n",
      "CHRD:Chord Energy Corporation\n",
      "UFPI:UFP Industries, Inc.\n",
      "BRY:Berry Corporation (bry)\n",
      "HDSN:Hudson Technologies, Inc.\n",
      "LPRO:Open Lending Corporation\n",
      "PFIE:Profire Energy, Inc.\n",
      "COKE:Coca-Cola Consolidated, Inc.\n"
     ]
    }
   ],
   "source": [
    "for t in picked_stocks:\n",
    "    print(t.info['symbol'] + \":\" + t.info['shortName'])"
   ]
  },
  {
   "cell_type": "code",
   "execution_count": 87,
   "id": "0e407c75-14e9-4557-bccd-394d2a385af7",
   "metadata": {},
   "outputs": [
    {
     "name": "stdout",
     "output_type": "stream",
     "text": [
      "141.31402511596679\n",
      "150.51065853118897\n"
     ]
    }
   ],
   "source": [
    "import yfinance as yf\n",
    "import pandas as pd\n",
    "\n",
    "# Set the ticker for the stock you want to analyze\n",
    "ticker = \"AAPL\"\n",
    "\n",
    "# Retrieve the stock data from yfinance\n",
    "stock_data = yf.Ticker(ticker).history(period=\"200d\")\n",
    "\n",
    "# Calculate the 50-day and 200-day moving averages\n",
    "ma50 = stock_data['Close'][-50:].mean()\n",
    "ma200 = stock_data['Close'][-200:].mean()\n",
    "\n",
    "print(ma50)\n",
    "print(ma200)"
   ]
  },
  {
   "cell_type": "code",
   "execution_count": null,
   "id": "c4afcdc0-d0a6-41ed-83fd-859716be464d",
   "metadata": {},
   "outputs": [],
   "source": []
  }
 ],
 "metadata": {
  "kernelspec": {
   "display_name": "Python 3 (ipykernel)",
   "language": "python",
   "name": "python3"
  },
  "language_info": {
   "codemirror_mode": {
    "name": "ipython",
    "version": 3
   },
   "file_extension": ".py",
   "mimetype": "text/x-python",
   "name": "python",
   "nbconvert_exporter": "python",
   "pygments_lexer": "ipython3",
   "version": "3.10.12"
  }
 },
 "nbformat": 4,
 "nbformat_minor": 5
}
